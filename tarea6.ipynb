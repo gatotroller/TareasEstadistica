{
 "cells": [
  {
   "cell_type": "markdown",
   "metadata": {},
   "source": [
    "# Redes neuronales"
   ]
  },
  {
   "cell_type": "markdown",
   "metadata": {},
   "source": [
    "Son algortimos potentes con los que se pueden modelar comportamientos inteligentes.\n",
    "\n",
    "A cada una de las partes de una red neuronal se les conoce como neuronas."
   ]
  },
  {
   "cell_type": "markdown",
   "metadata": {},
   "source": [
    "### Neurona"
   ]
  },
  {
   "cell_type": "markdown",
   "metadata": {},
   "source": [
    "Una neurona es la unidad basica de procesamiento, la cual recibe estimulos externos conocidos como valores de entrada, con estos valores realizara un calculo interno dando un valor de salida.\n",
    "\n",
    "Lo que hace es realizar una suma ponderada dependiendo de los valores de entrada junto con su peso, los cuales son los parametros del modelo, el cual se podra ir ajustando.\n",
    "\n",
    "Se podria decir que una neurona es bastante parecida a un modelo de regresion lineal, la cual ademas tendra una valor de sesgo (bias)."
   ]
  },
  {
   "cell_type": "markdown",
   "metadata": {},
   "source": [
    "### Redes"
   ]
  },
  {
   "cell_type": "markdown",
   "metadata": {},
   "source": [
    "Una manera de organizar neuronas es mediante capas, dos neuronas que se encuentren en la misma capa recibiran la misma informacion que la capa anterior y los calculos que realicen se pasaran a la capa siguiente.\n",
    "\n",
    "A la primera capa se le conoce como capa de entrada, a la ultima capa de salida, mientras que a las intermedias se les conoce como capas ocultas.\n",
    "\n",
    "Esto sirve para que la red pueda aprender reconocimiento jerarquerizado, esto se hace para que la red pueda aprender conocimiento mas basico en las primeras capas y lograr elaborar conomiento mas complejo y abstracto."
   ]
  },
  {
   "cell_type": "markdown",
   "metadata": {},
   "source": [
    "### Funciones de activacion"
   ]
  },
  {
   "cell_type": "markdown",
   "metadata": {},
   "source": [
    "Sirve para distorsionar nuestro valor de salida de la neurona para volverla no lineal para asi poder concatenar la computacion de varias neuronas.\n",
    "\n",
    "- Escalonada: Para un valor mayor que el umbral el output es 1 mientras que 0 para otro caso\n",
    "\n",
    "- Sigmoide: Hace que valores muy grandes se vayan a 1 mientras que valores mas pequenos se vayan a 0\n",
    "\n",
    "- Tanh: Parecida a la sigmoide sin embargo, el rango varia de -1 a 1.\n",
    "\n",
    "- RELU: Se comporta como lineal cuando es positiva y 0 cuando no lo es."
   ]
  },
  {
   "cell_type": "markdown",
   "metadata": {},
   "source": [
    "### Backpropagation"
   ]
  },
  {
   "cell_type": "markdown",
   "metadata": {},
   "source": [
    "Es un algoritmo que logra que los ajustes de sus parametros, lo realice la misma red neuronal.\n",
    "\n",
    "Esto se logra mediante el calculo del gradiente, el cual en regresiones lineal suele ser algo simple de calcular, sin embargo en redes neuronales se vuelve mas complejo.\n",
    "\n",
    "Lo que se hace es ir analizando las capas de forma inversa desde el momento que exista algun error, para calcular el peso del error en las diferentes neuronas y asi poder corregirlo.\n",
    "\n",
    "La backpropagation es hacer lo que se menciona hasta llegar al inicio de la red neuronal, computando el vector gradiente."
   ]
  }
 ],
 "metadata": {
  "language_info": {
   "name": "python"
  }
 },
 "nbformat": 4,
 "nbformat_minor": 2
}
